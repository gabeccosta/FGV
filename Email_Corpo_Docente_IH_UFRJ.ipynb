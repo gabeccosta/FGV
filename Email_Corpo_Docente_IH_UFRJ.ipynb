{
  "nbformat": 4,
  "nbformat_minor": 0,
  "metadata": {
    "colab": {
      "name": "Email_Corpo_Docente_IH-UFRJ.ipynb",
      "version": "0.3.2",
      "provenance": [],
      "collapsed_sections": [],
      "include_colab_link": true
    },
    "kernelspec": {
      "name": "python3",
      "display_name": "Python 3"
    }
  },
  "cells": [
    {
      "cell_type": "markdown",
      "metadata": {
        "id": "view-in-github",
        "colab_type": "text"
      },
      "source": [
        "<a href=\"https://colab.research.google.com/github/gabeccosta/FGV/blob/master/Email_Corpo_Docente_IH_UFRJ.ipynb\" target=\"_parent\"><img src=\"https://colab.research.google.com/assets/colab-badge.svg\" alt=\"Open In Colab\"/></a>"
      ]
    },
    {
      "metadata": {
        "id": "vIxLM2BuZjL9",
        "colab_type": "code",
        "colab": {}
      },
      "cell_type": "code",
      "source": [
        "from bs4 import BeautifulSoup\n",
        "import nltk\n",
        "import requests\n",
        "import string\n",
        "from collections import Counter"
      ],
      "execution_count": 0,
      "outputs": []
    },
    {
      "metadata": {
        "id": "by2tX6NxZpPz",
        "colab_type": "code",
        "colab": {}
      },
      "cell_type": "code",
      "source": [
        "url1 = 'http://cpro16197.publiccloud.com.br/tempsite/IH/index.php/o-instituto/docentes/professores-permanentes-do-ih-ufrj'"
      ],
      "execution_count": 0,
      "outputs": []
    },
    {
      "metadata": {
        "id": "dtEmrexfZ1RS",
        "colab_type": "code",
        "colab": {
          "base_uri": "https://localhost:8080/",
          "height": 340
        },
        "outputId": "fe6ccfa9-2f4c-42e0-c78d-9e366fdd1da7"
      },
      "cell_type": "code",
      "source": [
        "pagina = requests.get(url1)\n",
        "texto = pagina.text\n",
        "print(texto[0:1000])"
      ],
      "execution_count": 5,
      "outputs": [
        {
          "output_type": "stream",
          "text": [
            "\n",
            "<!doctype html>\n",
            "<html>\n",
            "    <head>\n",
            "    \t<base href=\"/tempsite/IH/\" />\n",
            "\n",
            "\t    <meta name=\"viewport\" content=\"width=device-width, initial-scale=1\">\n",
            "\n",
            "\t\t<link rel=\"shortcut icon\" type=\"image/png\" href=\"/tempsite/IH/templates/UnciastTemplate/favicon.png\"/>\n",
            "\t\t<link href=\"https://fonts.googleapis.com/css?family=Comfortaa|Open+Sans\" rel=\"stylesheet\">\n",
            "\n",
            "\t\t<link href=\"/tempsite/IH/templates/UnciastTemplate/css/bootstrap.min.css\" rel=\"stylesheet\">\n",
            "\t\t<link href=\"/tempsite/IH/templates/UnciastTemplate/css/bootstrap-theme.min.css\" rel=\"stylesheet\">\n",
            "\t\t<link href=\"/tempsite/IH/templates/UnciastTemplate/css/timeline.css\" rel=\"stylesheet\">\n",
            "\t\t<link href=\"/tempsite/IH/templates/UnciastTemplate/css/template.css\" rel=\"stylesheet\">\n",
            "\t\t\t<base href=\"http://cpro16197.publiccloud.com.br/tempsite/IH/index.php/o-instituto/docentes/professores-permanentes-do-ih-ufrj\" />\n",
            "\t<meta http-equiv=\"content-type\" content=\"text/html; charset=utf-8\" />\n",
            "\t<meta name=\"generator\" content=\"Joomla! - Open Source Content Management\" />\n",
            "\t\n"
          ],
          "name": "stdout"
        }
      ]
    },
    {
      "metadata": {
        "id": "k6uezK9Ihxyn",
        "colab_type": "code",
        "colab": {
          "base_uri": "https://localhost:8080/",
          "height": 54
        },
        "outputId": "65632aea-04a3-449d-f247-e1f10c95c022"
      },
      "cell_type": "code",
      "source": [
        "res1 = [candidato for candidato in texto.split() if '@' in candidato]\n",
        "res2 = [candidato for candidato in res1 if 'http' not in candidato]\n",
        "res3 = [candidato.replace('href=\"mailto:','') for candidato in res2]\n",
        "res4 = [candidato.strip('\"') for candidato in res3]\n",
        "res5 = [candidato for candidato in res4 if '.' in candidato[candidato.find('@'):]]\n",
        "res6 = [candidato[:candidato.find('\"')] for candidato in res5]\n",
        "res7 = [candidato.replace('</p','') for candidato in res6]\n",
        "res8 = [candidato.replace('&nbsp;','') for candidato in res7]\n",
        "print(res8)"
      ],
      "execution_count": 11,
      "outputs": [
        {
          "output_type": "stream",
          "text": [
            "['andrechevitarese@yahoo.com.br', 'andreacn.bh@terra.com.br', 'andreiafrazao@terra.com.br', 'acjuca@gmail.com', 'biacatao@openlink.com.br', 'carlos_fico@uol.com.br', 'ziller@historia.ufrj.br', 'claradegoes@uol.com.br', 'c.pinheiro.ufrj@gmail.com', 'dvgaia@hotmail.com', 'fslessa@uol.com.br', 'fcharbel@uol.com.br', 'valecastro@superig.com.br', 'escravo@prolink.com.br', 'gabrielcgc@terra.com.br', 'gracilda@historia.ufrj.br', 'henrique_gusmao@yahoo.com.br', 'jacquehermann@uol.com.br', 'jl.fragoso@uol.com.br', 'jvictoraraujos@gmail.com', 'jpadua@terra.com.br', 'jbeatrizufrj@gmail.com', 'leila.rlk@terra.com.br', 'lise@sedrez.com', 'luizalarangeira34@gmail.com', 'mgflorentino@gmail.com', 'mlbretas@gmail.com', 'cidamota@centroin.com.br', 'mariabeatriz.demelloesouza@pq.cnpq.br', 'mp-araujo@uol.com.br', 'marieta@fgv.br', 'martamega@gmail.com', 'monica.grin@gmail.com', 'monicalima@historia.ufrj.br', 'meihy1@yahoo.com.br', 'ncortes.ufrj@gmail.com', 'pauloduartexxi@hotmail.com', 'rmbustamante@terra.com.br<b', 'renato.lemos@globo.com', 'ricardocastro@ufrj.br', 'sabcorreia@gmail.com', 'vizecksohn@gmail.com', '</strong>wagnerpphistory@gmail.com', 'williamsmartins@uol.com.br']\n"
          ],
          "name": "stdout"
        }
      ]
    }
  ]
}