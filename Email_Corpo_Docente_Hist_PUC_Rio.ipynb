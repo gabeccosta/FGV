{
  "nbformat": 4,
  "nbformat_minor": 0,
  "metadata": {
    "colab": {
      "name": "Email_Corpo_Docente_Hist_PUC_Rio.ipynb",
      "version": "0.3.2",
      "provenance": [],
      "include_colab_link": true
    },
    "kernelspec": {
      "name": "python3",
      "display_name": "Python 3"
    }
  },
  "cells": [
    {
      "cell_type": "markdown",
      "metadata": {
        "id": "view-in-github",
        "colab_type": "text"
      },
      "source": [
        "<a href=\"https://colab.research.google.com/github/gabeccosta/FGV/blob/master/Email_Corpo_Docente_Hist_PUC_Rio.ipynb\" target=\"_parent\"><img src=\"https://colab.research.google.com/assets/colab-badge.svg\" alt=\"Open In Colab\"/></a>"
      ]
    },
    {
      "metadata": {
        "id": "t4Aal046TXQ4",
        "colab_type": "code",
        "colab": {}
      },
      "cell_type": "code",
      "source": [
        "from bs4 import BeautifulSoup\n",
        "import nltk\n",
        "import requests\n",
        "import string\n",
        "from collections import Counter"
      ],
      "execution_count": 0,
      "outputs": []
    },
    {
      "metadata": {
        "id": "LvX8gKF6TdjT",
        "colab_type": "code",
        "colab": {}
      },
      "cell_type": "code",
      "source": [
        "url1 = 'http://www.his.puc-rio.br/corpo-docente/'"
      ],
      "execution_count": 0,
      "outputs": []
    },
    {
      "metadata": {
        "id": "eIIYLoFBTh7C",
        "colab_type": "code",
        "outputId": "7a32f439-39c3-4120-9992-96fdf63c6bb6",
        "colab": {
          "base_uri": "https://localhost:8080/",
          "height": 442
        }
      },
      "cell_type": "code",
      "source": [
        "pagina = requests.get(url1)\n",
        "texto = pagina.text\n",
        "print(texto[0:1000])"
      ],
      "execution_count": 18,
      "outputs": [
        {
          "output_type": "stream",
          "text": [
            "<!DOCTYPE html>\n",
            "<!--[if IE 7]>\n",
            "<html class=\"ie ie7\" lang=\"pt-BR\">\n",
            "<![endif]-->\n",
            "<!--[if IE 8]>\n",
            "<html class=\"ie ie8\" lang=\"pt-BR\">\n",
            "<![endif]-->\n",
            "<!--[if !(IE 7) & !(IE 8)]><!-->\n",
            "<html lang=\"pt-BR\">\n",
            "<!--<![endif]-->\n",
            "<head>\n",
            "<meta charset=\"UTF-8\" />\n",
            "<meta name=\"viewport\" content=\"width=device-width\" />\n",
            "<title>CORPO DOCENTE | Departamento de História da PUC-Rio</title>\n",
            "<link rel=\"profile\" href=\"http://gmpg.org/xfn/11\" />\n",
            "<link rel=\"pingback\" href=\"http://www.his.puc-rio.br/xmlrpc.php\" />\n",
            "<!--[if lt IE 9]>\n",
            "<script src=\"http://www.his.puc-rio.br/wp-content/themes/twentytwelve/js/html5.js\" type=\"text/javascript\"></script>\n",
            "<![endif]-->\n",
            "\n",
            "<!-- Recent Posts Widget With Thumbnails: Could not open the CSS file! Print inline CSS instead: -->\n",
            "<style type='text/css'>.rpwwt-widget ul { list-style: outside none none; margin-left: 0; margin-right: 0; padding-left: 0; padding-right: 0; }\n",
            ".rpwwt-widget ul li { overflow: hidden; margin: 0 0 1.5em; }\n",
            ".rpwwt-widget ul li:last-child { margin: 0; }\n",
            ".rpwwt-widget u\n"
          ],
          "name": "stdout"
        }
      ]
    },
    {
      "metadata": {
        "colab_type": "code",
        "outputId": "fd38250c-0398-45a9-e51d-f39107ff5791",
        "id": "gXp2I7ABWDWg",
        "colab": {
          "base_uri": "https://localhost:8080/",
          "height": 54
        }
      },
      "cell_type": "code",
      "source": [
        "res1 = [candidato for candidato in texto.split() if '@' in candidato]\n",
        "res2 = [candidato for candidato in res1 if 'http' not in candidato]\n",
        "res3 = [candidato.replace('#000000;\">','') for candidato in res2]\n",
        "res4 = [candidato.replace('</span></h5>','') for candidato in res3]\n",
        "res5 = [candidato for candidato in res4 if '@media' not in candidato]\n",
        "print(res5)"
      ],
      "execution_count": 19,
      "outputs": [
        {
          "output_type": "stream",
          "text": [
            "['crisalfagali@puc-rio.br', 'crisalfagali@puc-rio.br', 'dgaleano@puc-rio.br', 'edowc@yahoo.com.br', 'henrique-estrada@puc-rio.br', 'jadduarte@puc-rio.br</span><span', 'masao@puc-rio.br', 'jsbmello@puc-rio.br', 'larissa_correa@puc-rio.br', 'leonardo@puc-rio.br', 'jasmin@puc-rio.br', 'pamplona@puc-rio.br', 'maisa@puc-rio.br', 'mparada@ig.com.br', '</a></span>regianemattos@puc-rio.br</h5>', 'baronius@terra.com.br', 'sergiomartins@puc-rio.br', '</a></span>edmilson@puc-rio.br</h5>', 'denise.solot@gmail.com', 'gisellemarquescamara@yahoo.com.br', 'heloisagesteira@mast.br', 'ia.sviana@gmail.com', '</a></span>ivanasl@puc-rio.br</h5>', 'larissacostard@puc-rio.br', 'leonardodecarvalhoaugusto@hotmail.com', 'lbvcorrea@uol.com.br', 'mveneu@rb.gov.br', 'mgabrielaccarvalho@gmail.com', 'marioangelomiranda@gmail.com', 'edrodemunoz@gmail.com', 'renatasammer@mac.com', 'romulomattos@puc-rio.br', 'umberto@puc-rio.br', 'l.18danil@gmail.com', 'msneves@puc-rio.br', 'irmattos@puc-rio.br', 'analuiza.nobre@ims.com.br', 'l.18danil@gmail.com', 'ivanasl@puc-rio.br', 'msneves@puc-rio.br']\n"
          ],
          "name": "stdout"
        }
      ]
    }
  ]
}